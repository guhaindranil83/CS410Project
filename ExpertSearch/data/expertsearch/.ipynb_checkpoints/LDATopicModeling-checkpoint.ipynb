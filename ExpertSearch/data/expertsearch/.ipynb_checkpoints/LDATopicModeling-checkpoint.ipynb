{
 "cells": [
  {
   "cell_type": "markdown",
   "metadata": {},
   "source": [
    "# Creating a Topic Model Using Mallet and Gensim\n",
    "\n",
    "Because finding meaningful topics is difficult using metrics like perplexity and coherence alone, I'll be using this notebook to manually tweak my model creation and then visually inspecting results to ensure that they make sense. A significant amount of the code for this notebook is based on a [gensim topic mining tutorial](https://www.machinelearningplus.com/nlp/topic-modeling-gensim-python/) by [Selva Prabhakaran](https://www.machinelearningplus.com/author/selva86/)."
   ]
  },
  {
   "cell_type": "code",
   "execution_count": 27,
   "metadata": {},
   "outputs": [],
   "source": [
    "import os\n",
    "import re\n",
    "import lxml # Included to speed up processing\n",
    "import cchardet # Included to speed up processing\n",
    "import numpy as np\n",
    "import pandas as pd\n",
    "import metapy\n",
    "from pprint import pprint\n",
    "from collections import OrderedDict\n",
    "import gensim\n",
    "import gensim.corpora as corpora\n",
    "from gensim.parsing.preprocessing import preprocess_string, strip_punctuation, remove_stopwords, strip_tags, strip_numeric, strip_non_alphanum\n",
    "from gensim.models import CoherenceModel, Phrases\n",
    "from bs4 import BeautifulSoup\n",
    "import pyLDAvis\n",
    "import pyLDAvis.gensim\n",
    "import matplotlib.pyplot as plt\n",
    "%matplotlib inline\n",
    "import logging\n",
    "logging.basicConfig(format='%(asctime)s : %(levelname)s : %(message)s')\n",
    "\n",
    "import warnings\n",
    "warnings.filterwarnings(\"ignore\", category=DeprecationWarning)\n",
    "\n",
    "from ranker import load_ranker"
   ]
  },
  {
   "cell_type": "markdown",
   "metadata": {},
   "source": [
    "# Creating a Corpus\n",
    "\n",
    "The first step is to create a corpus to use for modeling."
   ]
  },
  {
   "cell_type": "code",
   "execution_count": 28,
   "metadata": {},
   "outputs": [],
   "source": [
    "top_directory = \"../compiled_bios\"\n",
    "filters_path = \"../\"\n",
    "def get_array_from_file(filters_path):\n",
    "    array_file = open(filters_path, 'r')\n",
    "    array = re.split(' |\\n|\\t', array_file.read().lower())\n",
    "    array_file.close()\n",
    "    array = [arr.replace('\\r', '') for arr in array if len(arr.replace('\\r', '')) > 0]\n",
    "    return set(array)\n",
    "\n",
    "def iter_documents(top_directory, filters):\n",
    "    custom_filter = [lambda x: x.lower(), strip_punctuation, remove_stopwords, strip_tags, strip_non_alphanum, strip_numeric]\n",
    "    \"\"\"Iterate over all documents, yielding a document (=list of utf8 tokens) at a time.\"\"\"\n",
    "    for root, dirs, files in os.walk(top_directory):\n",
    "        for file in filter(lambda file: file.endswith('.txt'), files):\n",
    "            document = open(os.path.join(root, file)).read().lower() # read the entire document, as one big string\n",
    "            soup = BeautifulSoup(document, \"lxml\")\n",
    "            document = soup.get_text(separator='\\n').split(' ')\n",
    "            document = preprocess_string(' '.join(document), custom_filter)\n",
    "            document = [word for word in document if word not in filters]\n",
    "            document = [word for word in document if len(word) > 4]\n",
    "            \n",
    "            yield document \n",
    "\n",
    "class CorpusContainer(object):\n",
    "    def __init__(self, top_dir, filters_path):\n",
    "        self.top_dir = top_dir\n",
    "        filter_set = self.__construct_filter_set(filters_path) \n",
    "        self.docs = list(iter_documents(top_dir, filter_set))\n",
    "        self.bigram = Phrases(self.docs, min_count=2)\n",
    "        self.trigram = Phrases(self.bigram[self.docs], min_count=2)\n",
    "        self.__append_bigrams_and_trigrams()\n",
    "        self.dictionary = gensim.corpora.Dictionary(self.docs)\n",
    "        self.dictionary.filter_extremes(no_below=10, no_above=.5, keep_n=30000) # check API docs for pruning params\n",
    "        self.corpus = [self.dictionary.doc2bow(doc) for doc in self.docs]\n",
    "        \n",
    "    def __iter__(self):\n",
    "        for tokens in iter_documents(self.top_dir, self.filters):\n",
    "            yield self.dictionary.doc2bow(tokens)\n",
    "            \n",
    "    def __len__(self):\n",
    "        return len(self.docs)\n",
    "    \n",
    "    def __construct_filter_set(self, filters_path):\n",
    "        filters = get_array_from_file(filters_path + 'names.txt')\n",
    "        filters.update(get_array_from_file(filters_path + 'unis'))\n",
    "        filters.update(get_array_from_file(filters_path + 'urls'))\n",
    "        filters.update(get_array_from_file(filters_path + 'emails'))\n",
    "        #filters.update(get_array_from_file(filters_path + 'depts'))\n",
    "        filters.update(get_array_from_file(filters_path + 'location'))\n",
    "        filters.update(get_array_from_file(filters_path + 'unwanted_words.txt'))\n",
    "        return filters\n",
    "    \n",
    "    \n",
    "    def __append_bigrams_and_trigrams(self):\n",
    "        for idx in range(len(self.docs)):\n",
    "            bigrams = [bigram for bigram in self.bigram[self.docs[idx]] if bigram.count('_') == 1]\n",
    "            trigrams = [trigram for trigram in self.trigram[self.bigram[self.docs[idx]]] if trigram.count('_') == 2]\n",
    "        \n",
    "            for token in bigrams:\n",
    "                split_tokens = list(OrderedDict.fromkeys(token.split('_')))\n",
    "                for tok in split_tokens:\n",
    "                    self.docs[idx] = filter(lambda word: word != tok, self.docs[idx])\n",
    "                self.docs[idx].append('_'.join(split_tokens))\n",
    "                \n",
    "            for token in trigrams:\n",
    "                split_tokens = list(OrderedDict.fromkeys(token.split('_')))\n",
    "                for tok in split_tokens:\n",
    "                    self.docs[idx] = filter(lambda word: word != tok, self.docs[idx])\n",
    "                self.docs[idx].append('_'.join(split_tokens))\n",
    "            \n",
    "    \n",
    "        \n",
    "\n",
    "corpus_container = CorpusContainer(top_directory, filters_path) # create a dictionary"
   ]
  },
  {
   "cell_type": "markdown",
   "metadata": {},
   "source": [
    "# Creating Topic Model\n",
    "\n",
    "I've chosen mallet because it creates considerably better topics than gensim's LDA algorithm."
   ]
  },
  {
   "cell_type": "code",
   "execution_count": 33,
   "metadata": {},
   "outputs": [
    {
     "name": "stdout",
     "output_type": "stream",
     "text": [
      "[(0,\n",
      "  [(u'information', 0.024162083828775268),\n",
      "   (u'systems', 0.02323313020214031),\n",
      "   (u'program', 0.01761296076099881),\n",
      "   (u'received', 0.014696046373365041),\n",
      "   (u'software', 0.014482387039239002),\n",
      "   (u'development', 0.010673677170035673),\n",
      "   (u'including', 0.008695005945303211),\n",
      "   (u'include', 0.00803544887039239),\n",
      "   (u'computing', 0.007979711652794293),\n",
      "   (u'management', 0.007738183709869203)]),\n",
      " (1,\n",
      "  [(u'aerospace_ocean', 0.006226006007200685),\n",
      "   (u'function_return', 0.006186223221212182),\n",
      "   (u'business_collaboration', 0.005370676108447874),\n",
      "   (u'function_details', 0.0052712191434766175),\n",
      "   (u'sticky_navigation', 0.00501263103455135),\n",
      "   (u'details_function', 0.004913174069580093),\n",
      "   (u'details_classname', 0.004893282676585842),\n",
      "   (u'details_childnodes', 0.004893282676585842),\n",
      "   (u'details_summary', 0.004893282676585842),\n",
      "   (u'summary_display', 0.004893282676585842)]),\n",
      " (2,\n",
      "  [(u'network', 0.013988749944635554),\n",
      "   (u'analysis', 0.012504982800112205),\n",
      "   (u'management', 0.010201821859359543),\n",
      "   (u'distributed_systems', 0.008282521075398994),\n",
      "   (u'distributed_computing', 0.006296782956609038),\n",
      "   (u'architecture', 0.006104852878212983),\n",
      "   (u'sensor_networks', 0.006016269765107112),\n",
      "   (u'operating_systems', 0.00589077702154046),\n",
      "   (u'wireless_sensor', 0.00550691686474835),\n",
      "   (u'large_scale', 0.005314986786352295)]),\n",
      " (3,\n",
      "  [(u'program', 0.013520676906147043),\n",
      "   (u'design', 0.00978990948191987),\n",
      "   (u'project', 0.009736229375096456),\n",
      "   (u'information', 0.007085774100690461),\n",
      "   (u'video', 0.007058934047278754),\n",
      "   (u'systems', 0.006810663553220471),\n",
      "   (u'software', 0.006730143392985352),\n",
      "   (u'projects', 0.006468452872221216),\n",
      "   (u'support', 0.005649831243164174),\n",
      "   (u'learning', 0.005529051002811496)]),\n",
      " (4,\n",
      "  [(u'outlook_economic', 0.025830887653176808),\n",
      "   (u'economic_outlook', 0.019098831222325197),\n",
      "   (u'global_management', 0.011411028730305839),\n",
      "   (u'outlook_forecast', 0.010107738646895273),\n",
      "   (u'management_organizations', 0.009866388631448873),\n",
      "   (u'marketing_analytics', 0.00906510658016682),\n",
      "   (u'ziman_estate', 0.009039362578519205),\n",
      "   (u'entertainment_sports', 0.009003964576253734),\n",
      "   (u'management_enterprise', 0.008997528575841829),\n",
      "   (u'analysis_monthly', 0.008984656575018022)]),\n",
      " (5,\n",
      "  [(u'control', 0.006986203637643963),\n",
      "   (u'analysis', 0.006847220806656351),\n",
      "   (u'design', 0.006282023960640063),\n",
      "   (u'applications', 0.005763154724952977),\n",
      "   (u'modeling', 0.005123833702409962),\n",
      "   (u'systems', 0.00486439908456642),\n",
      "   (u'techniques', 0.004299202238550131),\n",
      "   (u'materials', 0.004160219407562519),\n",
      "   (u'physics', 0.0039100503117848176),\n",
      "   (u'methods', 0.003798864046994728)]),\n",
      " (6,\n",
      "  [(u'machine_learning', 0.030230418280105815),\n",
      "   (u'artificial_intelligence', 0.01660085112908791),\n",
      "   (u'analysis', 0.00978606755357896),\n",
      "   (u'natural_language', 0.006738105279300694),\n",
      "   (u'computing', 0.005032013188666948),\n",
      "   (u'neural_networks', 0.004897826170302496),\n",
      "   (u'modeling', 0.0046006977724954955),\n",
      "   (u'theory', 0.004562358624391366),\n",
      "   (u'information', 0.004533604263313269),\n",
      "   (u'problems', 0.004504849902235172)]),\n",
      " (7,\n",
      "  [(u'global', 0.010389477455345719),\n",
      "   (u'business_analytics', 0.008559803469983111),\n",
      "   (u'management_combine', 0.0077025436306873436),\n",
      "   (u'joint', 0.007050002558984595),\n",
      "   (u'ideas_matter', 0.006627770100823993),\n",
      "   (u'development', 0.005808895030451917),\n",
      "   (u'innovation', 0.005629766108808025),\n",
      "   (u'economic', 0.004734121500588566),\n",
      "   (u'policy', 0.004491017964071856),\n",
      "   (u'sciences', 0.004375863657300783)]),\n",
      " (8,\n",
      "  [(u'additive_manufacturing', 0.006859080574929675),\n",
      "   (u'large_scale', 0.006358136487996609),\n",
      "   (u'systems', 0.005086509190397287),\n",
      "   (u'molecular_biology', 0.0047589688258641285),\n",
      "   (u'advanced_materials', 0.004180956417864437),\n",
      "   (u'fluid_mechanics', 0.0033717390466648685),\n",
      "   (u'materials_mechanical', 0.0032754036453315864),\n",
      "   (u'autonomous_systems', 0.0031598011637316483),\n",
      "   (u'fellowship', 0.0031212670031983353),\n",
      "   (u'diversity_biology', 0.0028900620399984586)]),\n",
      " (9,\n",
      "  [(u'model', 0.004211164223037109),\n",
      "   (u'including', 0.004050385559602506),\n",
      "   (u'developed', 0.0037226444379858145),\n",
      "   (u'develop', 0.0037164606432383298),\n",
      "   (u'techniques', 0.0035742333640461804),\n",
      "   (u'applications', 0.003091897373742371),\n",
      "   (u'learn', 0.0029558538892977063),\n",
      "   (u'methods', 0.002918751120812798),\n",
      "   (u'models', 0.0027888914311156184),\n",
      "   (u'problem', 0.002659031741418439)])]\n"
     ]
    }
   ],
   "source": [
    "mallet_path = './mallet-2.0.8/bin/mallet'\n",
    "ldamallet = gensim.models.wrappers.LdaMallet(\n",
    "    mallet_path, \n",
    "    corpus=corpus_container.corpus, \n",
    "    num_topics=10, \n",
    "    id2word=corpus_container.dictionary)\n",
    "pprint(ldamallet.show_topics(formatted=False))\n"
   ]
  },
  {
   "cell_type": "code",
   "execution_count": 34,
   "metadata": {},
   "outputs": [
    {
     "data": {
      "text/plain": [
       "0.526480908535609"
      ]
     },
     "execution_count": 34,
     "metadata": {},
     "output_type": "execute_result"
    }
   ],
   "source": [
    "coherence_model_lda = CoherenceModel(model=ldamallet, texts=corpus_container.docs, dictionary=corpus_container.dictionary, coherence='c_v')\n",
    "coherence_model_lda.get_coherence()"
   ]
  },
  {
   "cell_type": "code",
   "execution_count": 35,
   "metadata": {},
   "outputs": [],
   "source": [
    "def topic_number_evaluator(dictionary, corpus, texts, limit, start=2, step=3):\n",
    "    coherence_vals = []\n",
    "    models = []\n",
    "    for num_topics in range(start, limit, step):\n",
    "        model = gensim.models.wrappers.LdaMallet(mallet_path, corpus=corpus, num_topics=num_topics, id2word=dictionary)\n",
    "        models.append(model)\n",
    "        coherence_model = CoherenceModel(model=model, texts=texts, dictionary=dictionary, coherence='c_v')\n",
    "        coherence_vals.append(coherence_model.get_coherence())\n",
    "        \n",
    "    return models, coherence_vals"
   ]
  },
  {
   "cell_type": "code",
   "execution_count": 36,
   "metadata": {},
   "outputs": [],
   "source": [
    "models, coherence_vals= topic_number_evaluator(corpus_container.dictionary, corpus_container.corpus, corpus_container.docs, start=2, limit=40, step=4)"
   ]
  },
  {
   "cell_type": "code",
   "execution_count": 37,
   "metadata": {},
   "outputs": [
    {
     "data": {
      "image/png": "[encoded data removed]",
      "text/plain": [
       "<Figure size 432x288 with 1 Axes>"
      ]
     },
     "metadata": {
      "needs_background": "light"
     },
     "output_type": "display_data"
    }
   ],
   "source": [
    "limit = 40\n",
    "start = 2\n",
    "step = 4\n",
    "x = range(start, limit, step)\n",
    "plt.plot(x, coherence_vals)\n",
    "plt.xlabel(\"Number of Topics\")\n",
    "plt.ylabel(\"Coherence Score\")\n",
    "plt.legend((\"coherence_vals\"), loc='best')\n",
    "plt.show()"
   ]
  },
  {
   "cell_type": "code",
   "execution_count": 38,
   "metadata": {},
   "outputs": [
    {
     "name": "stdout",
     "output_type": "stream",
     "text": [
      "('Num topics = ', 2, ' has coherence value of', 0.4542)\n",
      "('Num topics = ', 6, ' has coherence value of', 0.4994)\n",
      "('Num topics = ', 10, ' has coherence value of', 0.4772)\n",
      "('Num topics = ', 14, ' has coherence value of', 0.5872)\n",
      "('Num topics = ', 18, ' has coherence value of', 0.5998)\n",
      "('Num topics = ', 22, ' has coherence value of', 0.6047)\n",
      "('Num topics = ', 26, ' has coherence value of', 0.6064)\n",
      "('Num topics = ', 30, ' has coherence value of', 0.5916)\n",
      "('Num topics = ', 34, ' has coherence value of', 0.5909)\n",
      "('Num topics = ', 38, ' has coherence value of', 0.5863)\n"
     ]
    }
   ],
   "source": [
    "for m, cv in zip(x, coherence_vals):\n",
    "    print(\"Num topics = \", m, \" has coherence value of\", round(cv, 4))"
   ]
  },
  {
   "cell_type": "code",
   "execution_count": 53,
   "metadata": {},
   "outputs": [
    {
     "name": "stdout",
     "output_type": "stream",
     "text": [
      "[(2,\n",
      "  u'0.027*\"management_organizations\" + 0.025*\"business_analytics\" + 0.024*\"global_economics\" + 0.016*\"global_management\" + 0.015*\"operations_management\" + 0.012*\"global_access\" + 0.011*\"decisions_operations\" + 0.010*\"fully_employed\" + 0.009*\"management_global_economics\" + 0.009*\"employed_fully\"'),\n",
      " (20,\n",
      "  u'0.013*\"aerospace_sciences\" + 0.012*\"aerospace_ocean\" + 0.008*\"universal_access\" + 0.008*\"rights_reserved\" + 0.007*\"closed_level\" + 0.007*\"design\" + 0.006*\"collaboration_isolat\" + 0.006*\"aeronautics_astronautics\" + 0.006*\"applied\" + 0.005*\"active_level\"'),\n",
      " (10,\n",
      "  u'0.115*\"information\" + 0.111*\"systems\" + 0.065*\"software\" + 0.051*\"design\" + 0.028*\"security\" + 0.023*\"management\" + 0.023*\"computing\" + 0.022*\"analysis\" + 0.020*\"development\" + 0.016*\"networks\"'),\n",
      " (13,\n",
      "  u'0.007*\"community\" + 0.006*\"online\" + 0.006*\"support\" + 0.005*\"learn\" + 0.005*\"training\" + 0.005*\"women\" + 0.005*\"quality\" + 0.005*\"issues\" + 0.005*\"sustainability\" + 0.005*\"business\"'),\n",
      " (4,\n",
      "  u'0.005*\"including\" + 0.005*\"techniques\" + 0.005*\"developed\" + 0.004*\"develop\" + 0.004*\"problem\" + 0.004*\"important\" + 0.004*\"applications\" + 0.003*\"provide\" + 0.003*\"called\" + 0.003*\"level\"'),\n",
      " (21,\n",
      "  u'0.041*\"outlook_economic\" + 0.030*\"economic_outlook\" + 0.016*\"outlook_forecast\" + 0.014*\"marketing_analytics\" + 0.014*\"ziman_estate\" + 0.014*\"entertainment_sports\" + 0.014*\"management_enterprise\" + 0.014*\"forecast_economic\" + 0.014*\"analysis_monthly\" + 0.012*\"survey_forecast\"'),\n",
      " (6,\n",
      "  u'0.022*\"received\" + 0.017*\"including\" + 0.015*\"development\" + 0.013*\"program\" + 0.010*\"served\" + 0.009*\"foundation\" + 0.009*\"joined\" + 0.009*\"industry\" + 0.008*\"sciences\" + 0.007*\"communications\"'),\n",
      " (3,\n",
      "  u'0.015*\"analysis\" + 0.015*\"distributed_systems\" + 0.014*\"sensor_networks\" + 0.012*\"wireless_sensor\" + 0.012*\"management\" + 0.012*\"wireless_networks\" + 0.011*\"network\" + 0.010*\"cloud_computing\" + 0.009*\"mobile_computing\" + 0.009*\"distributed_computing\"'),\n",
      " (9,\n",
      "  u'0.011*\"additive_manufacturing\" + 0.008*\"large_scale\" + 0.006*\"advanced_materials\" + 0.004*\"fluid_mechanics\" + 0.004*\"autonomous_systems\" + 0.004*\"micro_manufacturing\" + 0.004*\"convection_transfer\" + 0.004*\"analysis_hermite\" + 0.004*\"curves_design\" + 0.004*\"analysis_bezier\"'),\n",
      " (11,\n",
      "  u'0.011*\"physics\" + 0.009*\"materials\" + 0.008*\"applied_physics\" + 0.008*\"applications\" + 0.007*\"energy\" + 0.006*\"design\" + 0.006*\"effects\" + 0.005*\"quantum\" + 0.005*\"modeling\" + 0.005*\"surface\"'),\n",
      " (12,\n",
      "  u'0.017*\"giving\" + 0.015*\"bookshelf_program\" + 0.015*\"program_startups\" + 0.013*\"future\" + 0.010*\"issues_accessibility\" + 0.010*\"webmaster_report\" + 0.010*\"marketing_accessibility\" + 0.009*\"covid\" + 0.008*\"webmaster_report_problem\" + 0.008*\"welcome_facts\"'),\n",
      " (18,\n",
      "  u'0.015*\"business_analytics\" + 0.014*\"management_combine\" + 0.012*\"global\" + 0.012*\"ideas_matter\" + 0.009*\"joint\" + 0.008*\"optimization_machine\" + 0.008*\"integrated_design\" + 0.008*\"problem_solvers\" + 0.007*\"systems_thinking\" + 0.007*\"business_problems\"'),\n",
      " (8,\n",
      "  u'0.012*\"function_return\" + 0.010*\"business_collaboration\" + 0.010*\"function_details\" + 0.010*\"sticky_navigation\" + 0.009*\"summary_display\" + 0.009*\"details_classname\" + 0.009*\"details_function\" + 0.009*\"details_childnodes\" + 0.009*\"details_summary\" + 0.009*\"summary_details\"'),\n",
      " (17,\n",
      "  u'0.012*\"analysis\" + 0.011*\"network\" + 0.010*\"efficient\" + 0.008*\"large_scale\" + 0.008*\"algorithm\" + 0.006*\"performance_computing\" + 0.005*\"lecture_notes\" + 0.005*\"series\" + 0.005*\"distributed_computing\" + 0.005*\"computational_geometry\"'),\n",
      " (19,\n",
      "  u'0.030*\"program\" + 0.018*\"programs\" + 0.015*\"programming_languages\" + 0.014*\"operating_systems\" + 0.009*\"tools\" + 0.009*\"architecture\" + 0.008*\"object_oriented\" + 0.008*\"techniques\" + 0.007*\"design_implementation\" + 0.006*\"level\"'),\n",
      " (5,\n",
      "  u'0.026*\"current\" + 0.022*\"computing\" + 0.020*\"theory\" + 0.019*\"mathematics\" + 0.019*\"program\" + 0.017*\"recent\" + 0.016*\"projects\" + 0.015*\"introduction\" + 0.013*\"computational\" + 0.011*\"taught\"'),\n",
      " (15,\n",
      "  u'0.037*\"machine_learning\" + 0.008*\"neural_networks\" + 0.007*\"modeling\" + 0.006*\"image\" + 0.006*\"pattern_recognition\" + 0.006*\"analysis\" + 0.006*\"control\" + 0.005*\"video\" + 0.005*\"optimization\" + 0.005*\"vision_pattern\"'),\n",
      " (0,\n",
      "  u'0.017*\"network\" + 0.013*\"design_automation\" + 0.011*\"power_electronics\" + 0.010*\"theory\" + 0.010*\"power\" + 0.009*\"embedded_systems\" + 0.009*\"applications\" + 0.008*\"analysis\" + 0.008*\"digital\" + 0.008*\"performance\"'),\n",
      " (16,\n",
      "  u'0.023*\"artificial_intelligence\" + 0.020*\"applications\" + 0.015*\"machine_learning\" + 0.014*\"program\" + 0.012*\"robotics\" + 0.010*\"analysis\" + 0.010*\"multi_agent\" + 0.009*\"activities\" + 0.009*\"business\" + 0.008*\"learning\"'),\n",
      " (14,\n",
      "  u'0.011*\"artificial_intelligence\" + 0.010*\"natural_language\" + 0.009*\"social\" + 0.009*\"human_interaction\" + 0.006*\"visualization\" + 0.006*\"human_factors\" + 0.006*\"information_retrieval\" + 0.006*\"interactive\" + 0.005*\"behavior\" + 0.005*\"design\"')]\n"
     ]
    }
   ],
   "source": [
    "optimal_model = models[5]\n",
    "model_topics = optimal_model.show_topics(formatted=False)\n",
    "pprint(optimal_model.print_topics(num_words=10))"
   ]
  },
  {
   "cell_type": "code",
   "execution_count": 47,
   "metadata": {},
   "outputs": [
    {
     "data": {
      "text/plain": [
       "[(u'program', 0.013520676906147043),\n",
       " (u'design', 0.00978990948191987),\n",
       " (u'project', 0.009736229375096456),\n",
       " (u'information', 0.007085774100690461),\n",
       " (u'video', 0.007058934047278754),\n",
       " (u'systems', 0.006810663553220471),\n",
       " (u'software', 0.006730143392985352),\n",
       " (u'projects', 0.006468452872221216),\n",
       " (u'support', 0.005649831243164174),\n",
       " (u'learning', 0.005529051002811496)]"
      ]
     },
     "execution_count": 47,
     "metadata": {},
     "output_type": "execute_result"
    }
   ],
   "source": [
    "topic_num = max(ldamallet[corpus_container.dictionary.doc2bow(['topic', 'mining'])], key = lambda x: x[1])[0]\n",
    "ldamallet.show_topic(topic_num)"
   ]
  },
  {
   "cell_type": "code",
   "execution_count": 58,
   "metadata": {},
   "outputs": [
    {
     "data": {
      "text/plain": [
       "[(u'artificial_intelligence', 0.011404687266756232),\n",
       " (u'natural_language', 0.010494103597551874),\n",
       " (u'social', 0.009165547096581579),\n",
       " (u'human_interaction', 0.008986415882967606),\n",
       " (u'visualization', 0.006135244066278549),\n",
       " (u'human_factors', 0.005657560829974623),\n",
       " (u'information_retrieval', 0.0055530676220331395),\n",
       " (u'interactive', 0.005523212419764144),\n",
       " (u'behavior', 0.005359008807284669),\n",
       " (u'design', 0.0052694432004776835)]"
      ]
     },
     "execution_count": 58,
     "metadata": {},
     "output_type": "execute_result"
    }
   ],
   "source": [
    "topic_num = max(optimal_model[corpus_container.dictionary.doc2bow(['natural', 'language', 'processing'])], key = lambda x: x[1])[0]\n",
    "optimal_model.show_topic(topic_num)"
   ]
  },
  {
   "cell_type": "markdown",
   "metadata": {},
   "source": [
    "# Saving the Model\n",
    "\n",
    "The topics mostly make sense to me, so I'll save the model so that I can load it for inference. I'll probably continue tweaking this until the project is due."
   ]
  },
  {
   "cell_type": "code",
   "execution_count": 59,
   "metadata": {},
   "outputs": [],
   "source": [
    "optimal_model.save('lda_mallet_model')"
   ]
  },
  {
   "cell_type": "code",
   "execution_count": 64,
   "metadata": {},
   "outputs": [],
   "source": [
    "model = gensim.utils.SaveLoad.load('lda_mallet_model') # Make sure the model saved properly"
   ]
  },
  {
   "cell_type": "code",
   "execution_count": 71,
   "metadata": {},
   "outputs": [
    {
     "data": {
      "text/plain": [
       "[(u'artificial_intelligence', 0.011404687266756232),\n",
       " (u'natural_language', 0.010494103597551874),\n",
       " (u'social', 0.009165547096581579),\n",
       " (u'human_interaction', 0.008986415882967606),\n",
       " (u'visualization', 0.006135244066278549),\n",
       " (u'human_factors', 0.005657560829974623),\n",
       " (u'information_retrieval', 0.0055530676220331395),\n",
       " (u'interactive', 0.005523212419764144),\n",
       " (u'behavior', 0.005359008807284669),\n",
       " (u'design', 0.0052694432004776835)]"
      ]
     },
     "execution_count": 71,
     "metadata": {},
     "output_type": "execute_result"
    }
   ],
   "source": [
    "topic_num = max(model[d.doc2bow(['natural', 'language', 'processing'])], key = lambda x: x[1])[0]\n",
    "model.show_topic(topic_num)"
   ]
  },
  {
   "cell_type": "markdown",
   "metadata": {},
   "source": [
    "# Saving the Dictionary\n",
    "\n",
    "Because I need to dictionary for inference, I'll go ahead and save it too."
   ]
  },
  {
   "cell_type": "code",
   "execution_count": 67,
   "metadata": {},
   "outputs": [],
   "source": [
    "corpus_container.dictionary.save('corpus_dictionary')"
   ]
  },
  {
   "cell_type": "code",
   "execution_count": null,
   "metadata": {},
   "outputs": [],
   "source": []
  }
 ],
 "metadata": {
  "kernelspec": {
   "display_name": "Python 3",
   "language": "python",
   "name": "python3"
  },
  "language_info": {
   "codemirror_mode": {
    "name": "ipython",
    "version": 3
   },
   "file_extension": ".py",
   "mimetype": "text/x-python",
   "name": "python",
   "nbconvert_exporter": "python",
   "pygments_lexer": "ipython3",
   "version": "3.8.5"
  }
 },
 "nbformat": 4,
 "nbformat_minor": 2
}
