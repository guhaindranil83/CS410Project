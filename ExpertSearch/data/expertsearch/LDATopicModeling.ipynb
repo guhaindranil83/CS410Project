{
 "cells": [
  {
   "cell_type": "markdown",
   "metadata": {},
   "source": [
    "# Creating a Topic Model Using Mallet and Gensim\n",
    "\n",
    "Because finding meaningful topics is difficult using metrics like perplexity and coherence alone, I'll be using this notebook to manually tweak my model creation and then visually inspecting results to ensure that they make sense. A significant amount of the code for this notebook is based on a [gensim topic mining tutorial](https://www.machinelearningplus.com/nlp/topic-modeling-gensim-python/) by [Selva Prabhakaran](https://www.machinelearningplus.com/author/selva86/)."
   ]
  },
  {
   "cell_type": "code",
   "execution_count": 1,
   "metadata": {},
   "outputs": [],
   "source": [
    "import os\n",
    "import re\n",
    "import lxml # Included to speed up processing\n",
    "import cchardet # Included to speed up processing\n",
    "import numpy as np\n",
    "import pandas as pd\n",
    "import metapy\n",
    "from pprint import pprint\n",
    "from collections import OrderedDict\n",
    "import gensim\n",
    "import gensim.corpora as corpora\n",
    "from gensim.parsing.preprocessing import preprocess_string, strip_punctuation, remove_stopwords, strip_tags, strip_numeric, strip_non_alphanum\n",
    "from gensim.models import CoherenceModel, Phrases\n",
    "from bs4 import BeautifulSoup\n",
    "import pyLDAvis\n",
    "import pyLDAvis.gensim\n",
    "import matplotlib.pyplot as plt\n",
    "%matplotlib inline\n",
    "import logging\n",
    "logging.basicConfig(format='%(asctime)s : %(levelname)s : %(message)s')\n",
    "\n",
    "import warnings\n",
    "warnings.filterwarnings(\"ignore\", category=DeprecationWarning)\n",
    "\n",
    "from ranker import load_ranker"
   ]
  },
  {
   "cell_type": "markdown",
   "metadata": {},
   "source": [
    "# Creating a Corpus\n",
    "\n",
    "The first step is to create a corpus to use for modeling."
   ]
  },
  {
   "cell_type": "code",
   "execution_count": 48,
   "metadata": {},
   "outputs": [],
   "source": [
    "top_directory = \"../compiled_bios\"\n",
    "filters_path = \"../\"\n",
    "def get_array_from_file(filters_path):\n",
    "    array_file = open(filters_path, 'r')\n",
    "    array = re.split(' |\\n|\\t', array_file.read().lower())\n",
    "    array_file.close()\n",
    "    array = [arr.replace('\\r', '') for arr in array if len(arr.replace('\\r', '')) > 0]\n",
    "    return set(array)\n",
    "\n",
    "def iter_documents(top_directory, filters):\n",
    "    custom_filter = [lambda x: x.lower(), strip_punctuation, remove_stopwords, strip_tags, strip_non_alphanum, strip_numeric]\n",
    "    \"\"\"Iterate over all documents, yielding a document (=list of utf8 tokens) at a time.\"\"\"\n",
    "    for root, dirs, files in os.walk(top_directory):\n",
    "        for file in filter(lambda file: file.endswith('.txt'), files):\n",
    "            document = open(os.path.join(root, file)).read().lower() # read the entire document, as one big string\n",
    "            soup = BeautifulSoup(document, \"lxml\")\n",
    "            document = soup.get_text(separator='\\n').split(' ')\n",
    "            document = preprocess_string(' '.join(document), custom_filter)\n",
    "            document = [word for word in document if word not in filters]\n",
    "            document = [word for word in document if len(word) > 4]\n",
    "            \n",
    "            yield document \n",
    "\n",
    "class CorpusContainer(object):\n",
    "    def __init__(self, top_dir, filters_path):\n",
    "        self.top_dir = top_dir\n",
    "        filter_set = self.__construct_filter_set(filters_path) \n",
    "        self.docs = list(iter_documents(top_dir, filter_set))\n",
    "        self.bigram = Phrases(self.docs, min_count=2)\n",
    "        self.trigram = Phrases(self.bigram[self.docs], min_count=2)\n",
    "        self.__append_bigrams_and_trigrams()\n",
    "        self.dictionary = gensim.corpora.Dictionary(self.docs)\n",
    "        self.dictionary.filter_extremes(no_below=10, no_above=.5, keep_n=30000) # check API docs for pruning params\n",
    "        self.corpus = [self.dictionary.doc2bow(doc) for doc in self.docs]\n",
    "        \n",
    "    def __iter__(self):\n",
    "        for tokens in iter_documents(self.top_dir, self.filters):\n",
    "            yield self.dictionary.doc2bow(tokens)\n",
    "            \n",
    "    def __len__(self):\n",
    "        return len(self.docs)\n",
    "    \n",
    "    def __construct_filter_set(self, filters_path):\n",
    "        filters = get_array_from_file(filters_path + 'names.txt')\n",
    "        filters.update(get_array_from_file(filters_path + 'unis'))\n",
    "        filters.update(get_array_from_file(filters_path + 'urls'))\n",
    "        filters.update(get_array_from_file(filters_path + 'emails'))\n",
    "        #filters.update(get_array_from_file(filters_path + 'depts'))\n",
    "        filters.update(get_array_from_file(filters_path + 'location'))\n",
    "        #filters.update(get_array_from_file(filters_path + 'unwanted_words.txt'))\n",
    "        return filters\n",
    "    \n",
    "    \n",
    "    def __append_bigrams_and_trigrams(self):\n",
    "        for idx in range(len(self.docs)):\n",
    "            bigrams = [bigram for bigram in self.bigram[self.docs[idx]] if bigram.count('_') == 1]\n",
    "            trigrams = [trigram for trigram in self.trigram[self.bigram[self.docs[idx]]] if trigram.count('_') == 2]\n",
    "        \n",
    "            for token in bigrams:\n",
    "                split_tokens = list(OrderedDict.fromkeys(token.split('_')))\n",
    "                for tok in split_tokens:\n",
    "                    self.docs[idx] = filter(lambda word: word != tok, self.docs[idx])\n",
    "                self.docs[idx].append('_'.join(split_tokens))\n",
    "                \n",
    "            for token in trigrams:\n",
    "                split_tokens = list(OrderedDict.fromkeys(token.split('_')))\n",
    "                for tok in split_tokens:\n",
    "                    self.docs[idx] = filter(lambda word: word != tok, self.docs[idx])\n",
    "                self.docs[idx].append('_'.join(split_tokens))\n",
    "            \n",
    "    \n",
    "        \n",
    "\n",
    "corpus_container = CorpusContainer(top_directory, filters_path) # create a dictionary"
   ]
  },
  {
   "cell_type": "markdown",
   "metadata": {},
   "source": [
    "# Creating Topic Model\n",
    "\n",
    "I've chosen mallet because it creates considerably better topics than gensim's LDA algorithm."
   ]
  },
  {
   "cell_type": "code",
   "execution_count": 49,
   "metadata": {},
   "outputs": [
    {
     "name": "stdout",
     "output_type": "stream",
     "text": [
      "[(0,\n",
      "  [(u'programs', 0.008495441140661779),\n",
      "   (u'academics', 0.005789886637266308),\n",
      "   (u'issue_pages', 0.005194664646519304),\n",
      "   (u'function_return', 0.004883525878628825),\n",
      "   (u'corporate_governance', 0.004748248153459051),\n",
      "   (u'foundation', 0.004694137063391142),\n",
      "   (u'access', 0.00465355374584021),\n",
      "   (u'graduate_students', 0.004410053840534617),\n",
      "   (u'postgraduate_degrees', 0.003814831849787614),\n",
      "   (u'social_innovation', 0.003693081897134818)]),\n",
      " (1,\n",
      "  [(u'right_arrow', 0.027391339149923956),\n",
      "   (u'graduate_students', 0.019723044905146883),\n",
      "   (u'phone', 0.010918114143920596),\n",
      "   (u'people_directory', 0.007812374929960778),\n",
      "   (u'admissions', 0.006723765308572801),\n",
      "   (u'facebook_twitter', 0.006419594973184984),\n",
      "   (u'giving', 0.0064035860081645725),\n",
      "   (u'interests', 0.0064035860081645725),\n",
      "   (u'facts_figures', 0.006211478427919635),\n",
      "   (u'information', 0.005330985351797006)]),\n",
      " (2,\n",
      "  [(u'machine_learning', 0.022755809956719067),\n",
      "   (u'artificial_intelligence', 0.011209551267212414),\n",
      "   (u'based', 0.007477710670117918),\n",
      "   (u'analysis', 0.006586838948631074),\n",
      "   (u'applications', 0.0060256599114740066),\n",
      "   (u'modeling', 0.0054013482326367695),\n",
      "   (u'design', 0.0052189650455607235),\n",
      "   (u'natural_language', 0.005176876617773943),\n",
      "   (u'video', 0.005155832403880553),\n",
      "   (u'workshop', 0.004440329131505293)]),\n",
      " (3,\n",
      "  [(u'systems', 0.0045715220532768636),\n",
      "   (u'study', 0.004353397740595661),\n",
      "   (u'computational_biology', 0.003980768706431941),\n",
      "   (u'development', 0.00392623762826164),\n",
      "   (u'volume_issue', 0.003817175471921039),\n",
      "   (u'human', 0.0037444673676939716),\n",
      "   (u'biological', 0.0034899890028992357),\n",
      "   (u'studies', 0.003435457924728935),\n",
      "   (u'control', 0.00326277617718965),\n",
      "   (u'effects', 0.003217333612047733)]),\n",
      " (4,\n",
      "  [(u'economic_outlook', 0.025969587434346214),\n",
      "   (u'students_courses', 0.010471378153933055),\n",
      "   (u'ziman_estate', 0.008382798649068803),\n",
      "   (u'spring_survey', 0.008337704318850142),\n",
      "   (u'media_entertainment', 0.007552113618725064),\n",
      "   (u'management_enterprise', 0.007528379760715243),\n",
      "   (u'global_management', 0.00682585756362454),\n",
      "   (u'marketing_analytics', 0.006733295517386237),\n",
      "   (u'employment_analysis', 0.0067024415019734706),\n",
      "   (u'march_economic', 0.006700068116172488)]),\n",
      " (5,\n",
      "  [(u'information', 0.020699824193273975),\n",
      "   (u'systems', 0.01916860432144275),\n",
      "   (u'students', 0.016971020246129415),\n",
      "   (u'software', 0.01690721941813645),\n",
      "   (u'student', 0.015347643622752793),\n",
      "   (u'program', 0.014660012476606364),\n",
      "   (u'education', 0.013632110247830773),\n",
      "   (u'school', 0.012668008847048148),\n",
      "   (u'design', 0.012100890375999547),\n",
      "   (u'group', 0.0114912380196223)]),\n",
      " (6,\n",
      "  [(u'based', 0.005636862733584839),\n",
      "   (u'model', 0.004663133841238153),\n",
      "   (u'applications', 0.004359761020507024),\n",
      "   (u'techniques', 0.0041004261898820275),\n",
      "   (u'models', 0.004075960639823065),\n",
      "   (u'theory', 0.003567077198596656),\n",
      "   (u'problems', 0.003107124857488171),\n",
      "   (u'application', 0.0029554384471226066),\n",
      "   (u'tools', 0.0029309728970636447),\n",
      "   (u'complex', 0.002906507347004683)]),\n",
      " (7,\n",
      "  [(u'programs', 0.006966768705198207),\n",
      "   (u'theory', 0.006822827203024691),\n",
      "   (u'interests', 0.006669289600706273),\n",
      "   (u'based', 0.005892005488969283),\n",
      "   (u'applications', 0.005661699085491656),\n",
      "   (u'current', 0.005460180982448733),\n",
      "   (u'applied_physics', 0.005201086278536403),\n",
      "   (u'network', 0.005085933076797589),\n",
      "   (u'systems', 0.004692492970856644),\n",
      "   (u'distinguished', 0.0046253202698423364)]),\n",
      " (8,\n",
      "  [(u'analysis', 0.010821147231157768),\n",
      "   (u'proceedings_conference', 0.010531245296062352),\n",
      "   (u'management', 0.008992535025171293),\n",
      "   (u'network', 0.007437099642640115),\n",
      "   (u'based', 0.006266341827831701),\n",
      "   (u'paper_award', 0.00623289160455146),\n",
      "   (u'september', 0.005998740041589777),\n",
      "   (u'march', 0.005692112994854241),\n",
      "   (u'distributed_systems', 0.005234959943357622),\n",
      "   (u'distributed_computing', 0.005145759347943648)]),\n",
      " (9,\n",
      "  [(u'development', 0.004898748171244348),\n",
      "   (u'review', 0.0037601202179280944),\n",
      "   (u'community', 0.003707160778238966),\n",
      "   (u'interdisciplinary', 0.0034953230194824537),\n",
      "   (u'media', 0.0033761642801819155),\n",
      "   (u'studies', 0.0033695443502207746),\n",
      "   (u'human_interaction', 0.0033629244202596337),\n",
      "   (u'social', 0.0033298247704539284),\n",
      "   (u'published', 0.0033033450506093644),\n",
      "   (u'people', 0.0032834852607259413)])]\n"
     ]
    }
   ],
   "source": [
    "mallet_path = './mallet-2.0.8/bin/mallet'\n",
    "ldamallet = gensim.models.wrappers.LdaMallet(\n",
    "    mallet_path, \n",
    "    corpus=corpus_container.corpus, \n",
    "    num_topics=10, \n",
    "    id2word=corpus_container.dictionary)\n",
    "pprint(ldamallet.show_topics(formatted=False))\n"
   ]
  },
  {
   "cell_type": "code",
   "execution_count": 50,
   "metadata": {},
   "outputs": [
    {
     "data": {
      "text/plain": [
       "0.5320017529893444"
      ]
     },
     "execution_count": 50,
     "metadata": {},
     "output_type": "execute_result"
    }
   ],
   "source": [
    "coherence_model_lda = CoherenceModel(model=ldamallet, texts=corpus_container.docs, dictionary=corpus_container.dictionary, coherence='c_v')\n",
    "coherence_model_lda.get_coherence()"
   ]
  },
  {
   "cell_type": "code",
   "execution_count": 51,
   "metadata": {},
   "outputs": [],
   "source": [
    "def topic_number_evaluator(dictionary, corpus, texts, limit, start=2, step=3):\n",
    "    coherence_vals = []\n",
    "    models = []\n",
    "    for num_topics in range(start, limit, step):\n",
    "        model = gensim.models.wrappers.LdaMallet(mallet_path, corpus=corpus, num_topics=num_topics, id2word=dictionary)\n",
    "        models.append(model)\n",
    "        coherence_model = CoherenceModel(model=model, texts=texts, dictionary=dictionary, coherence='c_v')\n",
    "        coherence_vals.append(coherence_model.get_coherence())\n",
    "        \n",
    "    return models, coherence_vals"
   ]
  },
  {
   "cell_type": "code",
   "execution_count": 52,
   "metadata": {},
   "outputs": [],
   "source": [
    "models, coherence_vals= topic_number_evaluator(corpus_container.dictionary, corpus_container.corpus, corpus_container.docs, start=10, limit=100, step=5)"
   ]
  },
  {
   "cell_type": "code",
   "execution_count": 54,
   "metadata": {},
   "outputs": [
    {
     "data": {
      "image/png": "[encoded data removed]",
      "text/plain": [
       "<Figure size 432x288 with 1 Axes>"
      ]
     },
     "metadata": {
      "needs_background": "light"
     },
     "output_type": "display_data"
    }
   ],
   "source": [
    "limit = 100\n",
    "start = 10\n",
    "step = 5\n",
    "x = range(start, limit, step)\n",
    "plt.plot(x, coherence_vals)\n",
    "plt.xlabel(\"Number of Topics\")\n",
    "plt.ylabel(\"Coherence Score\")\n",
    "plt.legend((\"coherence_vals\"), loc='best')\n",
    "plt.show()"
   ]
  },
  {
   "cell_type": "code",
   "execution_count": 55,
   "metadata": {},
   "outputs": [
    {
     "name": "stdout",
     "output_type": "stream",
     "text": [
      "('Num topics = ', 10, ' has coherence value of', 0.5199)\n",
      "('Num topics = ', 15, ' has coherence value of', 0.5537)\n",
      "('Num topics = ', 20, ' has coherence value of', 0.5947)\n",
      "('Num topics = ', 25, ' has coherence value of', 0.6115)\n",
      "('Num topics = ', 30, ' has coherence value of', 0.6067)\n",
      "('Num topics = ', 35, ' has coherence value of', 0.623)\n",
      "('Num topics = ', 40, ' has coherence value of', 0.6148)\n",
      "('Num topics = ', 45, ' has coherence value of', 0.6242)\n",
      "('Num topics = ', 50, ' has coherence value of', 0.6406)\n",
      "('Num topics = ', 55, ' has coherence value of', 0.6251)\n",
      "('Num topics = ', 60, ' has coherence value of', 0.6245)\n",
      "('Num topics = ', 65, ' has coherence value of', 0.6312)\n",
      "('Num topics = ', 70, ' has coherence value of', 0.6287)\n",
      "('Num topics = ', 75, ' has coherence value of', 0.6326)\n",
      "('Num topics = ', 80, ' has coherence value of', 0.6216)\n",
      "('Num topics = ', 85, ' has coherence value of', 0.6142)\n",
      "('Num topics = ', 90, ' has coherence value of', 0.6281)\n",
      "('Num topics = ', 95, ' has coherence value of', 0.6266)\n"
     ]
    }
   ],
   "source": [
    "for m, cv in zip(x, coherence_vals):\n",
    "    print(\"Num topics = \", m, \" has coherence value of\", round(cv, 4))"
   ]
  },
  {
   "cell_type": "code",
   "execution_count": 161,
   "metadata": {},
   "outputs": [
    {
     "name": "stdout",
     "output_type": "stream",
     "text": [
      "[(23,\n",
      "  u'0.014*\"chemical_biomolecular\" + 0.013*\"quick_links\" + 0.010*\"featured_videos\" + 0.010*\"halluniversity_californiaberkeley\" + 0.010*\"navigation_chemistry\" + 0.009*\"awards_honors\" + 0.008*\"rights_reserved\" + 0.008*\"group\" + 0.007*\"chemistry_chemical\" + 0.007*\"impact\"'),\n",
      " (45,\n",
      "  u'0.021*\"aerospace_sciences\" + 0.012*\"closed_level\" + 0.011*\"dynamic\" + 0.010*\"federal_investigators\" + 0.010*\"acoustical_society\" + 0.009*\"proceedings_turbo\" + 0.009*\"active_level\" + 0.009*\"society_mechanical\" + 0.009*\"study\" + 0.009*\"energy\"'),\n",
      " (57,\n",
      "  u'0.023*\"video\" + 0.017*\"interactive\" + 0.016*\"human_interaction\" + 0.015*\"visualization\" + 0.014*\"visual\" + 0.014*\"virtual_reality\" + 0.013*\"transactions_graphics\" + 0.009*\"based\" + 0.009*\"media\" + 0.009*\"information\"'),\n",
      " (15,\n",
      "  u'0.011*\"function_return\" + 0.009*\"postgraduate_degrees\" + 0.008*\"details_classname\" + 0.008*\"details_summary\" + 0.008*\"function_details\" + 0.008*\"summary_display\" + 0.007*\"taught_courses\" + 0.007*\"foundation\" + 0.007*\"access\" + 0.006*\"study_online\"'),\n",
      " (14,\n",
      "  u'0.042*\"paper_award\" + 0.023*\"awards\" + 0.022*\"conference\" + 0.020*\"foundation\" + 0.019*\"distinguished\" + 0.017*\"received\" + 0.014*\"fellowship\" + 0.013*\"including\" + 0.012*\"early_career\" + 0.011*\"society\"'),\n",
      " (56,\n",
      "  u'0.020*\"issue_pages\" + 0.018*\"corporate_governance\" + 0.014*\"social_innovation\" + 0.013*\"executive_education\" + 0.012*\"value_chain\" + 0.012*\"graduate\" + 0.012*\"information_organizational\" + 0.012*\"behavior_political\" + 0.012*\"admission_financial\" + 0.011*\"innovation_initiative\"'),\n",
      " (49,\n",
      "  u'0.027*\"natural_language\" + 0.015*\"analysis\" + 0.015*\"information_retrieval\" + 0.014*\"knowledge_discovery\" + 0.012*\"social_media\" + 0.011*\"mining\" + 0.011*\"artificial_intelligence\" + 0.010*\"computational_linguistics\" + 0.009*\"social_networks\" + 0.008*\"semantic\"'),\n",
      " (13,\n",
      "  u'0.020*\"events_calendar\" + 0.015*\"aeronautics_astronautics\" + 0.015*\"honors\" + 0.013*\"career\" + 0.013*\"directory\" + 0.013*\"selected\" + 0.012*\"statement\" + 0.010*\"diversity_inclusion\" + 0.009*\"systems\" + 0.009*\"degrees\"'),\n",
      " (7,\n",
      "  u'0.016*\"executive_education\" + 0.014*\"career_professionals\" + 0.008*\"interdisciplinary\" + 0.008*\"joint\" + 0.008*\"integrated_design\" + 0.008*\"optimization_machine\" + 0.007*\"business_analytics\" + 0.007*\"return_campus\" + 0.007*\"smart_thinking\" + 0.007*\"organizations_world\"'),\n",
      " (48,\n",
      "  u'0.129*\"right_arrow\" + 0.011*\"arrow_people\" + 0.009*\"graduate_students\" + 0.008*\"additive_manufacturing\" + 0.007*\"arrow_majors\" + 0.006*\"advanced_materials\" + 0.005*\"current_graduate_students\" + 0.004*\"advising\" + 0.004*\"group\" + 0.004*\"technologies\"'),\n",
      " (41,\n",
      "  u'0.014*\"computing_informatics\" + 0.013*\"academic_advising\" + 0.013*\"courses_cidse\" + 0.013*\"design\" + 0.011*\"prospective_students\" + 0.010*\"society\" + 0.009*\"information_assurance\" + 0.009*\"interests\" + 0.009*\"honors_awards\" + 0.008*\"computational_intelligence\"'),\n",
      " (16,\n",
      "  u'0.030*\"programming_languages\" + 0.019*\"program\" + 0.018*\"programs\" + 0.018*\"object_oriented\" + 0.013*\"based\" + 0.013*\"formal_methods\" + 0.012*\"programming_language\" + 0.008*\"model_checking\" + 0.007*\"software_testing\" + 0.007*\"object_oriented_programming\"'),\n",
      " (31,\n",
      "  u'0.006*\"class\" + 0.005*\"including\" + 0.005*\"directly\" + 0.005*\"result\" + 0.005*\"features\" + 0.005*\"developed\" + 0.005*\"require\" + 0.005*\"applications\" + 0.004*\"terms\" + 0.004*\"called\"'),\n",
      " (63,\n",
      "  u'0.251*\"systems\" + 0.132*\"design\" + 0.118*\"analysis\" + 0.042*\"modeling\" + 0.033*\"applications\" + 0.024*\"interests\" + 0.023*\"techniques\" + 0.019*\"performance\" + 0.013*\"recent\" + 0.013*\"complex\"'),\n",
      " (59,\n",
      "  u'0.014*\"computational_geometry\" + 0.012*\"computing\" + 0.011*\"theoretical\" + 0.011*\"efficient\" + 0.010*\"algorithm\" + 0.008*\"optimal\" + 0.008*\"computational_complexity\" + 0.008*\"computation\" + 0.008*\"problems\" + 0.007*\"network\"'),\n",
      " (0,\n",
      "  u'0.056*\"april\" + 0.054*\"march\" + 0.054*\"september\" + 0.042*\"december\" + 0.041*\"october\" + 0.040*\"january\" + 0.038*\"november\" + 0.029*\"february\" + 0.029*\"workshop\" + 0.011*\"based\"'),\n",
      " (26,\n",
      "  u'0.166*\"group\" + 0.036*\"people\" + 0.030*\"applied_physics\" + 0.025*\"current\" + 0.022*\"https\" + 0.020*\"support\" + 0.017*\"application\" + 0.016*\"awards\" + 0.013*\"student\" + 0.012*\"video\"'),\n",
      " (10,\n",
      "  u'0.112*\"education\" + 0.026*\"interests\" + 0.019*\"selected\" + 0.015*\"design\" + 0.013*\"mathematics\" + 0.012*\"information\" + 0.012*\"field\" + 0.011*\"google_scholar\" + 0.011*\"students\" + 0.011*\"mechanical_aerospace\"'),\n",
      " (47,\n",
      "  u'0.013*\"based\" + 0.011*\"applied_physics\" + 0.010*\"physics\" + 0.010*\"materials\" + 0.009*\"quantum\" + 0.009*\"applications\" + 0.007*\"sensing\" + 0.007*\"optical\" + 0.006*\"devices\" + 0.006*\"properties\"'),\n",
      " (62,\n",
      "  u'0.024*\"programs\" + 0.016*\"current\" + 0.013*\"student\" + 0.013*\"facebook_twitter\" + 0.012*\"graduate_studies\" + 0.012*\"apply_visit\" + 0.011*\"directory_offices\" + 0.011*\"paper_museum\" + 0.011*\"events_greenbuzz\" + 0.011*\"conference_ferst\"')]\n"
     ]
    }
   ],
   "source": [
    "optimal_model = models[11]\n",
    "model_topics = optimal_model.show_topics(formatted=False)\n",
    "pprint(optimal_model.print_topics(num_words=10))"
   ]
  },
  {
   "cell_type": "code",
   "execution_count": 163,
   "metadata": {},
   "outputs": [
    {
     "data": {
      "text/plain": [
       "[(u'operating_systems', 0.02296253835519439),\n",
       " (u'distributed_systems', 0.015679266277775904),\n",
       " (u'management', 0.014465387598206158),\n",
       " (u'performance_computing', 0.014397949893785615),\n",
       " (u'distributed_computing', 0.013386384327477492),\n",
       " (u'cloud_computing', 0.011869035978015308),\n",
       " (u'large_scale', 0.009576154027716896),\n",
       " (u'embedded_systems', 0.007687898303941734),\n",
       " (u'proceedings_symposium', 0.007553022895100651),\n",
       " (u'storage', 0.007182115520787673)]"
      ]
     },
     "execution_count": 163,
     "metadata": {},
     "output_type": "execute_result"
    }
   ],
   "source": [
    "topic_num = max(optimal_model[corpus_container.corpus[0]], key = lambda x: x[1])[0]\n",
    "optimal_model.show_topic(topic_num)"
   ]
  },
  {
   "cell_type": "code",
   "execution_count": 164,
   "metadata": {},
   "outputs": [
    {
     "data": {
      "text/plain": [
       "[(u'natural_language', 0.027331308791941337),\n",
       " (u'analysis', 0.015332197614991482),\n",
       " (u'information_retrieval', 0.014554477446115103),\n",
       " (u'knowledge_discovery', 0.013924894452262795),\n",
       " (u'social_media', 0.011962076883193838),\n",
       " (u'mining', 0.011184356714317459),\n",
       " (u'artificial_intelligence', 0.011073253833049404),\n",
       " (u'computational_linguistics', 0.009740019257832752),\n",
       " (u'social_networks', 0.008999333382712391),\n",
       " (u'semantic', 0.00788830457003185)]"
      ]
     },
     "execution_count": 164,
     "metadata": {},
     "output_type": "execute_result"
    }
   ],
   "source": [
    "topic_num = max(optimal_model[corpus_container.dictionary.doc2bow(['topic', 'mining'])], key = lambda x: x[1])[0]\n",
    "optimal_model.show_topic(topic_num)"
   ]
  },
  {
   "cell_type": "markdown",
   "metadata": {},
   "source": [
    "# Saving the Model\n",
    "\n",
    "The topics mostly make sense to me, so I'll save the model so that I can load it for inference. I'll probably continue tweaking this until the project is due."
   ]
  },
  {
   "cell_type": "code",
   "execution_count": 166,
   "metadata": {},
   "outputs": [],
   "source": [
    "optimal_model = gensim.models.wrappers.LdaMallet(\n",
    "    mallet_path, \n",
    "    corpus=corpus_container.corpus, \n",
    "    num_topics=65, \n",
    "    id2word=corpus_container.dictionary,\n",
    "    prefix='./model_files/'\n",
    ")"
   ]
  },
  {
   "cell_type": "code",
   "execution_count": 167,
   "metadata": {},
   "outputs": [],
   "source": [
    "optimal_model.save('lda_mallet_model')"
   ]
  },
  {
   "cell_type": "code",
   "execution_count": 168,
   "metadata": {},
   "outputs": [],
   "source": [
    "model = gensim.utils.SaveLoad.load('lda_mallet_model') # Make sure the model saved properly"
   ]
  },
  {
   "cell_type": "code",
   "execution_count": 169,
   "metadata": {},
   "outputs": [
    {
     "data": {
      "text/plain": [
       "[(u'machine_learning', 0.0884036393713813),\n",
       " (u'artificial_intelligence', 0.04304383788254756),\n",
       " (u'natural_language', 0.024416873449131515),\n",
       " (u'information_retrieval', 0.01293631100082713),\n",
       " (u'conference_artificial', 0.012539288668320927),\n",
       " (u'knowledge_discovery', 0.012473118279569893),\n",
       " (u'computational_linguistics', 0.00870140612076096),\n",
       " (u'social_media', 0.008635235732009926),\n",
       " (u'large_scale', 0.00846980976013234),\n",
       " (u'world', 0.007808105872622002)]"
      ]
     },
     "execution_count": 169,
     "metadata": {},
     "output_type": "execute_result"
    }
   ],
   "source": [
    "topic_num = max(model[corpus_container.dictionary.doc2bow(['topic', 'mining'])], key = lambda x: x[1])[0]\n",
    "model.show_topic(topic_num)"
   ]
  },
  {
   "cell_type": "markdown",
   "metadata": {},
   "source": [
    "# Saving the Dictionary\n",
    "\n",
    "Because I need to dictionary for inference, I'll go ahead and save it too."
   ]
  },
  {
   "cell_type": "code",
   "execution_count": 170,
   "metadata": {},
   "outputs": [],
   "source": [
    "corpus_container.dictionary.save('corpus_dictionary')"
   ]
  },
  {
   "cell_type": "code",
   "execution_count": 171,
   "metadata": {},
   "outputs": [],
   "source": [
    "corpora.MmCorpus.serialize('lda_corpus', corpus_container.corpus)"
   ]
  },
  {
   "cell_type": "code",
   "execution_count": null,
   "metadata": {},
   "outputs": [],
   "source": []
  }
 ],
 "metadata": {
  "kernelspec": {
   "display_name": "Python 2",
   "language": "python",
   "name": "python2"
  },
  "language_info": {
   "codemirror_mode": {
    "name": "ipython",
    "version": 2
   },
   "file_extension": ".py",
   "mimetype": "text/x-python",
   "name": "python",
   "nbconvert_exporter": "python",
   "pygments_lexer": "ipython2",
   "version": "2.7.18"
  }
 },
 "nbformat": 4,
 "nbformat_minor": 2
}
